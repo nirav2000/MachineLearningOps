{
 "cells": [
  {
   "cell_type": "markdown",
   "metadata": {},
   "source": [
    "# Lab 1 - Training a Machine Learning Model\n",
    "\n",
    "The goal of this lab is to demonstarte how to use Azure Machine Learning service to orchestrate machine learning **training** workflows. \n",
    "\n",
    "To keep the focus of the lab on **workflow orchestration** rather then on idiosyncrasies of a domain problem, we have chosen a relatively simple machine learning scenario.\n",
    "\n",
    "During the lab you will learn how to:\n",
    "- Track training iterations a.k.a *Runs* in *Azure ML Experiment*\n",
    "- Execute training scripts on remote, cloud compute resources - *Azure ML Compute*.\n",
    "- Register the best performing model with *Azure ML Model Registry*\n"
   ]
  },
  {
   "cell_type": "markdown",
   "metadata": {},
   "source": [
    "## Scenario\n",
    "\n",
    "You will train a binary classification model to predict propensity to purchase. The dataset comes from the UCI Machine Learning repository, and it is related to direct marketing campaigns (phone calls) of a Portuguese banking institution. The goal of the model is to help with campaign planning by predicting which clients will respond positively to marketing phone calls. \n",
    "\n",
    "\n",
    "## Connect AML workspace\n",
    "\n",
    "Check the version of AML SDK."
   ]
  },
  {
   "cell_type": "code",
   "execution_count": null,
   "metadata": {},
   "outputs": [],
   "source": [
    "# Verify AML SDK Installed\n",
    "\n",
    "import azureml.core\n",
    "print(\"SDK Version:\", azureml.core.VERSION)"
   ]
  },
  {
   "cell_type": "markdown",
   "metadata": {},
   "source": [
    "Connect to the workspace."
   ]
  },
  {
   "cell_type": "code",
   "execution_count": null,
   "metadata": {},
   "outputs": [],
   "source": [
    "from azureml.core import Workspace\n",
    "\n",
    "# Connect to workspace\n",
    "\n",
    "ws = Workspace.from_config()\n",
    "print(ws.name, ws.resource_group, ws.location, ws.subscription_id, sep='\\n')"
   ]
  },
  {
   "cell_type": "markdown",
   "metadata": {},
   "source": [
    "## Data preparation\n",
    "### Download the dataset\n",
    "The dataset used in the lab can be downloaded from a public Azure Blob Storage container.\n"
   ]
  },
  {
   "cell_type": "code",
   "execution_count": null,
   "metadata": {},
   "outputs": [],
   "source": [
    "import os\n",
    "\n",
    "folder = '../datasets'\n",
    "filenames = ['banking_train.csv','banking_test.csv']\n",
    "os.makedirs(folder, exist_ok=True)\n",
    "for filename in filenames:\n",
    "    downloadCommand = 'wget -O ''{0}/{1}'' ''https://azureailabs.blob.core.windows.net/banking/{1}'' --no-check-certificate'.format(folder, filename)\n",
    "    print(downloadCommand)\n",
    "    os.system(downloadCommand)\n",
    "os.listdir(folder)"
   ]
  },
  {
   "cell_type": "markdown",
   "metadata": {},
   "source": [
    "### Explore the dataset\n"
   ]
  },
  {
   "cell_type": "code",
   "execution_count": null,
   "metadata": {},
   "outputs": [],
   "source": [
    "import numpy as np\n",
    "import pandas as pd\n",
    "import os\n",
    "\n",
    "folder = '../datasets'\n",
    "filename = 'banking_train.csv'\n",
    "pathname = os.path.join(folder, filename)\n",
    "df = pd.read_csv(pathname, delimiter=',')\n",
    "print(df.info())\n",
    "df.head()"
   ]
  },
  {
   "cell_type": "markdown",
   "metadata": {},
   "source": [
    "The dataset combines the information about the bank's customers with the results of previous campaigns and key economic indicators. It includes 41,188 records and 21 fields. The columns are a mix of numeric and categorical data types.\n",
    "\n",
    "The `y` column indicates whether the customer subscribed to a term deposit. This is our `target` variable or `label`. The goal of the model is to predict this column on new examples.\n",
    "\n",
    "Some information that exists in the historical dataset will not be available when planning a new campaign. \n",
    "\n",
    "Please refer to [UCI ML Repository](https://archive.ics.uci.edu/ml/datasets/bank+marketing) for more information. \n",
    "\n",
    "We will use the following features for training. "
   ]
  },
  {
   "cell_type": "code",
   "execution_count": null,
   "metadata": {},
   "outputs": [],
   "source": [
    "feature_columns = [\n",
    "                   # Demographic\n",
    "                   'age', \n",
    "                   'job', \n",
    "                   'education', \n",
    "                   'marital',  \n",
    "                   'housing', \n",
    "                   'loan', \n",
    "                   # Previous campaigns\n",
    "                   'month',\n",
    "                   'campaign',\n",
    "                   'poutcome',\n",
    "                   # Economic indicators\n",
    "                   'emp_var_rate',\n",
    "                   'cons_price_idx',\n",
    "                   'cons_conf_idx',\n",
    "                   'euribor3m',\n",
    "                   'nr_employed']\n",
    "\n",
    "df_train = df[feature_columns + ['y']]\n",
    "df_train.head()"
   ]
  },
  {
   "cell_type": "markdown",
   "metadata": {},
   "source": [
    "`Scikit-learn` estimators expect continuous input. Some of the features in the dataset are categorical and encoded as strings. We will use *dummy* encoding to convert categorical features to numeric values."
   ]
  },
  {
   "cell_type": "code",
   "execution_count": null,
   "metadata": {},
   "outputs": [],
   "source": [
    "df_train = pd.get_dummies(df_train, drop_first=True).astype(dtype='float')"
   ]
  },
  {
   "cell_type": "markdown",
   "metadata": {},
   "source": [
    "Let's now look at the class distribution in training data."
   ]
  },
  {
   "cell_type": "code",
   "execution_count": null,
   "metadata": {},
   "outputs": [],
   "source": [
    "%matplotlib inline\n",
    "import matplotlib.pyplot as plt\n",
    "\n",
    "plt.bar([0, 1], df_train.y.value_counts())\n",
    "plt.xticks([0, 1], [0, 1])"
   ]
  },
  {
   "cell_type": "markdown",
   "metadata": {},
   "source": [
    "The training dataset is very imbalanced. We will need to address this when configuring training."
   ]
  },
  {
   "cell_type": "markdown",
   "metadata": {},
   "source": [
    "## Train the model\n",
    "\n",
    "In this section of the lab you will train a binary classification model.\n",
    "\n",
    "You will first run training on a local workstation and use Azure Machine Learning Experiment to track training progress. In the following step, you will use Azure Machine Learning Compute to run  training on more powerful cloud compute resources.\n",
    "\n",
    "In the Azure Machine Learning service, you can track training artifacts (algorithm settings, performance metrics, logs, serialized models, etc.)  created during training iterations a.k.a *Runs* using Azure ML *Experiment*. To do that you must instrument your code with logging statements and trigger logging when you submit the *Run*. The following are two ways to trigger the run submission:\n",
    "\n",
    "- Start an interactive logging session in the specified *Experiment*. As you execute logging statements, any artifacts that are logged during the session are added to the run record in the experiment. We will use this approach when training the model on a local compute.\n",
    "\n",
    "- Add logging functions to your training script and trigger logging when submitting the script to run on a compute target. With this option, you can add monitoring code to be notified of completion or to get a visual widget to monitor. We will demonstrate this approach when training on a remote Azure Machine Learning Compute."
   ]
  },
  {
   "cell_type": "markdown",
   "metadata": {},
   "source": [
    "### Train on a local workstation\n",
    "#### Prepare training pipeline\n",
    "\n",
    "We are going to train a binomial *LogisticRegression* regression model. *LogisticRegression* exposes a number of tuneable hyperparameters. Argueable, the most important setting is the inverse of regularization strength **C** . For the sake of simplicity, we will focus on tuning this hyperparameter when training our model. We will use *GridSearchCV* to automate the hyperparameter tuning process. \n",
    "\n",
    "The business goal of our model is to identify customers with high propencity to buy. As such, we want to minimize the number of false negatives - customers who were wrongly identified as ones with low propencity to buy. We want the model with a high *recall*.\n",
    "\n",
    "Since the dataset is imbalanced we will set *class_weight* parameter to `balanced` to automatically adjust weights inversely proportional to class frequencies in in the input data.\n"
   ]
  },
  {
   "cell_type": "code",
   "execution_count": null,
   "metadata": {},
   "outputs": [],
   "source": [
    "from sklearn.linear_model import LogisticRegression\n",
    "from sklearn.preprocessing import StandardScaler\n",
    "from sklearn.model_selection import GridSearchCV\n",
    "from sklearn.pipeline import Pipeline\n",
    "\n",
    "\n",
    "# Create logistic regression estimater\n",
    "lr = LogisticRegression(solver='lbfgs', max_iter=300, class_weight='balanced')\n",
    "\n",
    "# Logistic regression requires feature scaling\n",
    "scaler = StandardScaler()\n",
    "\n",
    "# Create a training pipeline\n",
    "pipeline = Pipeline(steps=[('scaler', scaler),\n",
    "                           ('lr', lr)])\n",
    "\n",
    "# Configure grid search\n",
    "param_grid = {'lr__C': [0.1, 0.5, 1, 2, 5]}\n",
    "clf = GridSearchCV(pipeline,\n",
    "                   param_grid, \n",
    "                   cv=5, \n",
    "                   scoring=['recall', 'accuracy'],\n",
    "                   refit = 'recall',\n",
    "                   return_train_score = False\n",
    "                   )\n"
   ]
  },
  {
   "cell_type": "markdown",
   "metadata": {},
   "source": [
    "####  Execute training"
   ]
  },
  {
   "cell_type": "code",
   "execution_count": null,
   "metadata": {},
   "outputs": [],
   "source": [
    "X = df_train.drop('y', axis=1)\n",
    "y = df_train.y\n",
    "\n",
    "clf.fit(X, y)"
   ]
  },
  {
   "cell_type": "markdown",
   "metadata": {},
   "source": [
    "#### Track the run in Azure Machine Learning Experiment\n",
    "\n",
    "The training run has completed and the *GridSearchCV* object contains the results for each value of **C**.\n",
    "\n",
    "We will now persists the results in *Azure ML Experiment*.\n",
    "\n",
    "An experiment is a grouping of many runs from a specified script. It always belongs to a workspace. \n",
    "\n",
    "Create an *Experiment* to track run records."
   ]
  },
  {
   "cell_type": "code",
   "execution_count": null,
   "metadata": {},
   "outputs": [],
   "source": [
    "from azureml.core.experiment import Experiment\n",
    "\n",
    "exp = Experiment(ws, \"propensity_to_buy_local_training\")"
   ]
  },
  {
   "cell_type": "markdown",
   "metadata": {},
   "source": [
    "Since we used *GridSearchCV* to train multiple models with different setting for **C** we want to reflect this approach in a run record. One way to do that is to create a hierarcical run record structure mapping directly to our grid search training regime. "
   ]
  },
  {
   "cell_type": "code",
   "execution_count": null,
   "metadata": {},
   "outputs": [],
   "source": [
    "from azureml.core.run import Run\n",
    "\n",
    "# Create a root run\n",
    "root_run = exp.start_logging()\n",
    "\n",
    "# Retrieve training results from GridSearchCV object and store them in child runs of the root run\n",
    "for C, accuracy, recall in zip(clf.cv_results_['params'], clf.cv_results_['mean_test_accuracy'], clf.cv_results_['mean_test_recall']):\n",
    "    run = root_run.child_run(\"Run with C set to {}\".format(C))\n",
    "    run.log(\"C\", C['lr__C'])\n",
    "    run.log(\"Accuracy\", accuracy)\n",
    "    run.log(\"Recall\", recall)\n",
    "    run.complete()\n",
    "    print(\"Storing C: {} and accuracy: {} and recall: {} in Run object\".format(C['lr__C'], accuracy, recall))\n",
    "    \n",
    "# Close the parent run in the experiment\n",
    "root_run.complete()"
   ]
  },
  {
   "cell_type": "markdown",
   "metadata": {},
   "source": [
    "Now that you have captured history for various runs, you can review the runs. \n",
    "\n",
    "There are three ways to access information captured in *Azure ML Experiment*:\n",
    "\n",
    "- Using Azure ML Workspace web GUI in Azure Portal\n",
    "- Using Azure ML CLI\n",
    "- Programatically, using Azure ML SDK.\n"
   ]
  },
  {
   "cell_type": "code",
   "execution_count": null,
   "metadata": {},
   "outputs": [],
   "source": [
    "# List all child runs\n",
    "runs = [r for r in root_run.get_children()]\n",
    "\n",
    "for run in runs:\n",
    "    print(run.get_details())\n",
    "    print(run.get_metrics())\n",
    "    print(\"-\" * 60)"
   ]
  },
  {
   "cell_type": "markdown",
   "metadata": {},
   "source": [
    "### Train remotely using Azure ML Compute\n",
    "\n",
    "Up until now, all of your training was executed locally on the same machine running Jupyter. Now you will execute the same logic targeting a remote Azure ML Compute.\n",
    "\n",
    "A compute target is the compute resource that you use to run your training script or host your service deployment. Compute targets are attached to a workspace. Compute targets other than the local machine are shared by users of the workspace.\n",
    "\n",
    "There are two types of compute targets: managed and unmanaged:\n",
    "\n",
    "- **Managed**: Compute targets that are created and managed by Azure Machine Learning service. These compute targets are optimized for machine learning workloads. Currently, Azure Machine Learning Compute is the only managed compute target. Additional managed compute targets may be added in the future. You can create machine learning compute instances directly through the workspace by using the Azure portal, the Azure Machine Learning SDK, or the Azure CLI. All other compute targets must be created outside the workspace and then attached to it.\n",
    "\n",
    "- **Unmanaged**: Compute targets that are not managed by Azure Machine Learning service. You might need to create them outside Azure Machine Learning and then attach them to your workspace before use. Unmanaged compute targets can require additional steps for you to maintain or to improve performance for machine learning workloads.\n",
    "\n",
    "In this lab we are going to utilize Azure Machine Learning Compute.\n",
    "\n",
    "\n",
    "#### Provision Azure ML Compute Cluster\n",
    "\n",
    "We will provision an autoscale Azure ML Computer Cluster. In this lab we will only use a single node on the cluster. In the following labs we will utilize multiple nodes on the cluster to run parallel model selection and hyper parameter tuning jobs."
   ]
  },
  {
   "cell_type": "code",
   "execution_count": null,
   "metadata": {},
   "outputs": [],
   "source": [
    "# Create an Azure ML Compute cluster\n",
    "\n",
    "# Create Azure ML cluster\n",
    "from azureml.core.compute import AmlCompute\n",
    "from azureml.core.compute import ComputeTarget\n",
    "import os\n",
    "\n",
    "# choose a name for your cluster\n",
    "cluster_name = \"cpu-cluster\"\n",
    "cluster_min_nodes = 1\n",
    "cluster_max_nodes = 3\n",
    "vm_size = \"STANDARD_DS11_V2\"\n",
    "\n",
    "# Check if the cluster exists. If yes connect to it\n",
    "if cluster_name in ws.compute_targets:\n",
    "    compute_target = ws.compute_targets[cluster_name]\n",
    "    if compute_target and type(compute_target) is AmlCompute:\n",
    "        print('Found existing compute target, using this compute target instead of creating:  ' + cluster_name)\n",
    "    else:\n",
    "        print(\"Error: A compute target with name \",cluster_name,\" was found, but it is not of type AmlCompute.\")\n",
    "else:\n",
    "    print('Creating a new compute target...')\n",
    "    provisioning_config = AmlCompute.provisioning_configuration(vm_size = vm_size, \n",
    "                                                                min_nodes = cluster_min_nodes, \n",
    "                                                                max_nodes = cluster_max_nodes)\n",
    "\n",
    "    # create the cluster\n",
    "    compute_target = ComputeTarget.create(ws, cluster_name, provisioning_config)\n",
    "    \n",
    "    # can poll for a minimum number of nodes and for a specific timeout. \n",
    "    # if no min node count is provided it will use the scale settings for the cluster\n",
    "    compute_target.wait_for_completion(show_output=True, min_node_count=None, timeout_in_minutes=20)\n",
    "    \n",
    "     # For a more detailed view of current BatchAI cluster status, use the 'status' property    \n",
    "    print(compute_target.status.serialize())"
   ]
  },
  {
   "cell_type": "markdown",
   "metadata": {},
   "source": [
    "#### Upload data to AML DataStore\n",
    "With your cluster ready, you need to upload the training data to a location accessible by the cluster's nodes. \n",
    "\n",
    "*Datastore* is a storage abstraction over an Azure storage account. The datastore can use either an Azure blob container or an Azure file share as the back-end storage. Each workspace has a default datastore, and you can register additional datastores.\n",
    "\n",
    "We will upload the training data to the default Datastore."
   ]
  },
  {
   "cell_type": "code",
   "execution_count": null,
   "metadata": {},
   "outputs": [],
   "source": [
    "# Upload the dataset to the DataStore\n",
    "\n",
    "ds = ws.get_default_datastore()\n",
    "print(ds.datastore_type, ds.account_name, ds.container_name)\n",
    "ds.upload(src_dir='../datasets', target_path='datasets', overwrite=True, show_progress=True)"
   ]
  },
  {
   "cell_type": "markdown",
   "metadata": {},
   "source": [
    "#### Create a training script\n",
    "\n",
    "Next, you will need to create a training script that is similar to the code you have executed to train the model locally. The script will be executed remotely on Azure ML Compute.\n",
    "\n",
    "In the script we chose not to utilize *GridSearchCV* for hyperparameter tuning. The value of **C** to use in *LogisticRegression* model is passed as a command line parameter. In the next lab, we will demonstrate how to use *Azure ML Hyperdrive* to conduct hyperparameter tuning in parallel on a scale out cluster.\n",
    "\n",
    "Note that we are passing the location of the training file as a parameter of the script. \n",
    "\n",
    "The last few statements in the script copy the serialized model to the `./outputs` directory. The `./outputs` directory is one of the special directories in Azure ML. At the end of each run the contents of the directory is copied to to Azure Machine Learning Experiment associated with the run."
   ]
  },
  {
   "cell_type": "code",
   "execution_count": null,
   "metadata": {},
   "outputs": [],
   "source": [
    "import os\n",
    "script_folder = './script'\n",
    "os.makedirs(script_folder, exist_ok=True)"
   ]
  },
  {
   "cell_type": "code",
   "execution_count": null,
   "metadata": {},
   "outputs": [],
   "source": [
    "%%writefile $script_folder/train.py\n",
    "\n",
    "import argparse\n",
    "import os\n",
    "import numpy as np\n",
    "import pandas as pd\n",
    "\n",
    "from sklearn.externals import joblib\n",
    "from sklearn.linear_model import LogisticRegression\n",
    "from sklearn.preprocessing import StandardScaler\n",
    "from sklearn.model_selection import GridSearchCV\n",
    "from sklearn.pipeline import Pipeline\n",
    "from sklearn.model_selection import cross_validate\n",
    "\n",
    "from azureml.core.run import Run\n",
    "\n",
    "# Retrieve command line arguments\n",
    "parser = argparse.ArgumentParser()\n",
    "parser.add_argument('--data-folder', type=str,  help='data folder mounting point')\n",
    "parser.add_argument('--filename', type=str,  help='training file name')\n",
    "parser.add_argument('--C', type=float , help='regularization')\n",
    "args = parser.parse_args()\n",
    "\n",
    "# Configure a path to training data\n",
    "data_folder = os.path.join(args.data_folder, 'datasets')\n",
    "print('Loading data from: ', data_folder)\n",
    "data_csv_path = os.path.join(data_folder, args.filename)\n",
    "\n",
    "# Load the dataset\n",
    "df = pd.read_csv(data_csv_path)\n",
    "\n",
    "# Preprocess the data\n",
    "feature_columns = [\n",
    "                   # Demographic\n",
    "                   'age', \n",
    "                   'job', \n",
    "                   'education', \n",
    "                   'marital',  \n",
    "                   'housing', \n",
    "                   'loan', \n",
    "                   # Previous campaigns\n",
    "                   'month',\n",
    "                   'campaign',\n",
    "                   'poutcome',\n",
    "                   # Economic indicators\n",
    "                   'emp_var_rate',\n",
    "                   'cons_price_idx',\n",
    "                   'cons_conf_idx',\n",
    "                   'euribor3m',\n",
    "                   'nr_employed']\n",
    "\n",
    "df = df[feature_columns + ['y']]\n",
    "df_train = pd.get_dummies(df, drop_first=True).astype(dtype='float')\n",
    "\n",
    "# Create logistic regression estimater\n",
    "lr = LogisticRegression(solver='lbfgs', C=args.C, max_iter=300, class_weight='balanced')\n",
    "\n",
    "# Logistic regression requires feature scaling\n",
    "scaler = StandardScaler()\n",
    "\n",
    "# Create a training pipeline\n",
    "pipeline = Pipeline(steps=[('scaler', scaler),\n",
    "                           ('lr', lr)])\n",
    "\n",
    "\n",
    "# Train and evaluate the model using cross validation\n",
    "X = df_train.drop('y', axis=1)\n",
    "y = df_train.y\n",
    "\n",
    "# Evaluate mterics(s) by cross-validation\n",
    "print(\"Starting training ...\")\n",
    "scoring = ['accuracy', 'recall']\n",
    "scores = cross_validate(pipeline, X, y, \n",
    "                        cv=10, \n",
    "                        return_train_score=False,\n",
    "                        scoring=scoring)\n",
    "\n",
    "cv_accuracy = np.mean(scores['test_accuracy'])\n",
    "cv_recall = np.mean(scores['test_recall'])\n",
    "\n",
    "print(\"CV accuracy: \", cv_accuracy)\n",
    "print(\"CV recall: \", cv_recall)\n",
    "\n",
    "# Persist the metrics in Azure ML Experiment\n",
    "# Acquire the current run and log run parameters and performance measures\n",
    "run = Run.get_context()\n",
    "run.log(\"C\", args.C)\n",
    "run.log(\"CV Accuracy\", cv_accuracy)\n",
    "run.log(\"CV Recall\", cv_recall)\n",
    "\n",
    "\n",
    "# Train the model on a full dataset\n",
    "trained_pipeline = pipeline.fit(X, y)\n",
    "\n",
    "# Serialize the model to ./outputs directory so that it can be automatically copied to Azure ML Experiment\n",
    "print(\"Saving the model to outputs ...\")\n",
    "joblib.dump(value=trained_pipeline, filename='outputs/model.pkl')\n"
   ]
  },
  {
   "cell_type": "markdown",
   "metadata": {},
   "source": [
    "#### Configure a remote job\n",
    "\n",
    "A run configuration is a set of instructions that defines how a script should be run in a specified compute target. The configuration includes a wide set of behavior definitions, such as whether to use an existing Python environment or to use a Conda environment that's built from a specification.\n",
    "\n",
    "There are different ways of specifing a run configuration. We will use a higher level abstraction - the *Estimator*.\n",
    "\n",
    "The *Estimator* class allows to easily train models in the Azure ecosystem. You can create and use an Estimator object to submit any training code you want to run on remote compute, whether it's a single-node run or distributed training across a GPU cluster. For PyTorch and TensorFlow jobs, Azure Machine Learning also provides respective custom PyTorch and TensorFlow estimators to simplify using these frameworks.\n",
    "\n",
    "Notice that we are using `ds.as_mount()` method to pass a location of the training dataset on the default *Datastore* to the *Estimator* object.\n"
   ]
  },
  {
   "cell_type": "code",
   "execution_count": null,
   "metadata": {},
   "outputs": [],
   "source": [
    "# Create estimator\n",
    "#############################\n",
    "from azureml.train.estimator import Estimator\n",
    "\n",
    "script_params = {\n",
    "    '--data-folder': ds.as_mount(),\n",
    "    '--filename': 'banking_train.csv',\n",
    "    '--C': 2\n",
    "}\n",
    "\n",
    "est_config = Estimator(source_directory=script_folder,\n",
    "                       script_params=script_params,\n",
    "                       compute_target=compute_target,\n",
    "                       entry_script='train.py',\n",
    "                       conda_packages=['scikit-learn', 'pandas'])"
   ]
  },
  {
   "cell_type": "markdown",
   "metadata": {},
   "source": [
    "#### Submit the job\n",
    "\n",
    "Submit the job using the submit() method of the Experiment object. "
   ]
  },
  {
   "cell_type": "code",
   "execution_count": null,
   "metadata": {},
   "outputs": [],
   "source": [
    "#  Execute the estimator job\n",
    "#####################################\n",
    "\n",
    "# Create a new experiment\n",
    "from azureml.core import Experiment\n",
    "experiment_name = \"propensity_to_buy_remote_training\"\n",
    "exp = Experiment(workspace=ws, name=experiment_name)\n",
    "\n",
    "# Submit the run\n",
    "tags = {\"Compute target\": \"Azure ML Compute\"}\n",
    "run = exp.submit(config=est_config, tags=tags)\n",
    "run\n"
   ]
  },
  {
   "cell_type": "markdown",
   "metadata": {},
   "source": [
    "#### Monitor a remote run\n",
    "\n",
    "The call to start the run is asynchronous, it returns a **Starting** state as soon as the job is started.\n",
    "\n",
    "The first run takes longer. The subsequent runs, as long as the script dependencies don't change, are much faster.\n",
    "\n",
    "Here is what's happening while you wait:\n",
    "\n",
    "- **Image creation**: A Docker image is created matching the Python environment specified by the estimator. In our case, this will be a base CPU image with the  `scikit-learn`, and `pandas` libraries. The image is uploaded to the workspace. This stage happens once for each Python environment since the container is cached for subsequent runs.  During image creation, logs are streamed to the run history. You can monitor the image creation progress using these logs.\n",
    "\n",
    "- **Running**: In this stage, the training script is sent to the remote Azure ML Compute, then the data in the default datastore is copied to the local storage on the cluster node , then the script is run. While the job is running, stdout and the ./logs directory are streamed to the run history. You can monitor the run's progress using these logs. \n",
    "\n",
    "- **Post-Processing**:  The ./outputs directory on the cluster node  is copied over to the run history in the workspace.\n",
    "\n",
    "You can check the progress of a running job in multiple ways. Below cells demonstrate how to use a Jupyter widget as well as a `wait_for_completion` method. "
   ]
  },
  {
   "cell_type": "code",
   "execution_count": null,
   "metadata": {},
   "outputs": [],
   "source": [
    "from azureml.widgets import RunDetails\n",
    "\n",
    "# Create a monitoring widget\n",
    "RunDetails(run).show()\n"
   ]
  },
  {
   "cell_type": "code",
   "execution_count": null,
   "metadata": {},
   "outputs": [],
   "source": [
    "# Poll for job status\n",
    "run.wait_for_completion(show_output=True)  # value of True will display a verbose, streaming log\n"
   ]
  },
  {
   "cell_type": "markdown",
   "metadata": {},
   "source": [
    "#### Display files stored with the run"
   ]
  },
  {
   "cell_type": "code",
   "execution_count": null,
   "metadata": {},
   "outputs": [],
   "source": [
    "print(run.get_file_names())"
   ]
  },
  {
   "cell_type": "markdown",
   "metadata": {},
   "source": [
    "### Next steps\n",
    "\n",
    "In the next lab you will used *Azure ML Hyperdrive* to fine tune hyperparameters on a scale out cluster."
   ]
  },
  {
   "cell_type": "code",
   "execution_count": null,
   "metadata": {},
   "outputs": [],
   "source": []
  }
 ],
 "metadata": {
  "kernelspec": {
   "display_name": "Python 3",
   "language": "python",
   "name": "python3"
  },
  "language_info": {
   "codemirror_mode": {
    "name": "ipython",
    "version": 3
   },
   "file_extension": ".py",
   "mimetype": "text/x-python",
   "name": "python",
   "nbconvert_exporter": "python",
   "pygments_lexer": "ipython3",
   "version": "3.7.3"
  },
  "name": "01 model training",
  "notebookId": 863281121960369
 },
 "nbformat": 4,
 "nbformat_minor": 2
}
